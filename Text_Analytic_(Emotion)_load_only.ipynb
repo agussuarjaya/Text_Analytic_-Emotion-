{
  "nbformat": 4,
  "nbformat_minor": 0,
  "metadata": {
    "colab": {
      "name": "Text Analytic (Emotion) - load_only.ipynb",
      "provenance": [],
      "collapsed_sections": []
    },
    "kernelspec": {
      "name": "python3",
      "display_name": "Python 3"
    }
  },
  "cells": [
    {
      "cell_type": "code",
      "metadata": {
        "id": "Bv2g_iX_ZhvP",
        "colab_type": "code",
        "colab": {}
      },
      "source": [
        "\"\"\"\n",
        "\n",
        "  Text Analytic (Emotion) with TensorFlow\n",
        " \n",
        "  Copyright 2020  I Made Agus Dwi Suarjaya\n",
        "                  Ni Luh Putu Diah Putri M\n",
        "                  Gede Ocha Dipa Ananda\n",
        "\n",
        "  Description     : Try to analyze Tweets with TensorFlow and classify into 5 emotions (anger, happiness, sadness, love, fear)\n",
        "  Dataset source  : https://raw.githubusercontent.com/meisaputri21/Indonesian-Twitter-Emotion-Dataset/master/Twitter_Emotion_Dataset.csv\n",
        "\n",
        "\"\"\"\n",
        "\n",
        "#Setup\n",
        "import tensorflow.compat.v2 as tf\n",
        "import tensorflow_datasets as tfds\n",
        "\n",
        "import csv\n",
        "import time\n",
        "import ast\n",
        "\n",
        "import numpy as np\n",
        "import pandas as pd"
      ],
      "execution_count": 0,
      "outputs": []
    },
    {
      "cell_type": "code",
      "metadata": {
        "id": "ug2EgJgLZo5G",
        "colab_type": "code",
        "colab": {}
      },
      "source": [
        "#--------------------------------------------------------------------------------------------------------------------------\n",
        "model_path = './1585185781_model'\n",
        "encoder_path = './1585185781_encoder'\n",
        "dict_path = './1585185781_dict'"
      ],
      "execution_count": 0,
      "outputs": []
    },
    {
      "cell_type": "code",
      "metadata": {
        "id": "IxOrVVZHUWQ5",
        "colab_type": "code",
        "colab": {}
      },
      "source": [
        "#--------------------------------------------------------------------------------------------------------------------------\n",
        "\n",
        "#Load the model (Optional for Transfer Learning)\n",
        "reloaded_model = tf.keras.models.load_model(model_path)\n",
        "model = reloaded_model"
      ],
      "execution_count": 0,
      "outputs": []
    },
    {
      "cell_type": "code",
      "metadata": {
        "id": "ZAz6oTstPybv",
        "colab_type": "code",
        "colab": {}
      },
      "source": [
        "#Load the encoder (Optional for Transfer Learning)\n",
        "encoder = tfds.features.text.TokenTextEncoder.load_from_file(encoder_path)"
      ],
      "execution_count": 0,
      "outputs": []
    },
    {
      "cell_type": "code",
      "metadata": {
        "id": "oMpMXu6Xv7Bd",
        "colab_type": "code",
        "colab": {}
      },
      "source": [
        "#Load the dictionary (Optional for Transfer Learning)\n",
        "with open(dict_path) as dict_file:\n",
        "    d = ast.literal_eval(dict_file.readline())"
      ],
      "execution_count": 0,
      "outputs": []
    },
    {
      "cell_type": "code",
      "metadata": {
        "id": "DXjS6XyS0dq-",
        "colab_type": "code",
        "outputId": "0a44ad01-71d1-4963-ed54-8ec408cb8960",
        "colab": {
          "base_uri": "https://localhost:8080/",
          "height": 128
        }
      },
      "source": [
        "#Classify some tweets with model predict\n",
        "tweet = []\n",
        "tweet.append('Tahukah kamu, bahwa saat itu papa memejamkan matanya dan menahan gejolak dan batinnya. Bahwa papa sangat ingin mengikuti keinginanmu tapu lagi-lagi dia HARUS menjagamu?')\n",
        "tweet.append('[Idm] My, masa gua tadi ketemu tmn SD yg pas SD ngejar gua dan ngasih surat tiap minggunya, asdfghjkl bgt, gk tau knp ngerasa takut gua :v hadeuh jaman SD ngerti apa coba :v')\n",
        "tweet.append('Sedih bny penulisan resep yg tidak baku sdm, sdt, ruas, sejumput, secukupnya, even biji/buah termasuk tidak baku :(')\n",
        "tweet.append('Paling nyampah org suka compare kan aku dgn org lain, dia dia ah aku aku ah. Tak suka boleh blah lah')\n",
        "tweet.append('Agak telat ramai nya ya dok...sudah paham sejak lama banget jadi geli aja baru pada ramai sekarang hehehe...')\n",
        "\n",
        "for text in range(len(tweet)):\n",
        "  predictions = model.predict(encoder.encode(tweet[text]))\n",
        "  predictions[0]\n",
        "  print(d[np.argmax(predictions[0])], ' <- ', tweet[text])"
      ],
      "execution_count": 14,
      "outputs": [
        {
          "output_type": "stream",
          "text": [
            "love  <-  Tahukah kamu, bahwa saat itu papa memejamkan matanya dan menahan gejolak dan batinnya. Bahwa papa sangat ingin mengikuti keinginanmu tapu lagi-lagi dia HARUS menjagamu?\n",
            "fear  <-  [Idm] My, masa gua tadi ketemu tmn SD yg pas SD ngejar gua dan ngasih surat tiap minggunya, asdfghjkl bgt, gk tau knp ngerasa takut gua :v hadeuh jaman SD ngerti apa coba :v\n",
            "sadness  <-  Sedih bny penulisan resep yg tidak baku sdm, sdt, ruas, sejumput, secukupnya, even biji/buah termasuk tidak baku :(\n",
            "anger  <-  Paling nyampah org suka compare kan aku dgn org lain, dia dia ah aku aku ah. Tak suka boleh blah lah\n",
            "happy  <-  Agak telat ramai nya ya dok...sudah paham sejak lama banget jadi geli aja baru pada ramai sekarang hehehe...\n"
          ],
          "name": "stdout"
        }
      ]
    }
  ]
}